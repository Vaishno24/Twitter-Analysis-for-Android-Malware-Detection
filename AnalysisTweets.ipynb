{
 "cells": [
  {
   "cell_type": "code",
   "execution_count": 1,
   "metadata": {},
   "outputs": [],
   "source": [
    "import json\n",
    "from pymongo import MongoClient\n",
    "import pandas as pd\n",
    "import csv"
   ]
  },
  {
   "cell_type": "code",
   "execution_count": 2,
   "metadata": {},
   "outputs": [],
   "source": [
    "client = MongoClient('localhost',27017)"
   ]
  },
  {
   "cell_type": "markdown",
   "metadata": {},
   "source": [
    "## create db"
   ]
  },
  {
   "cell_type": "code",
   "execution_count": 5,
   "metadata": {},
   "outputs": [],
   "source": [
    "db=client.sample"
   ]
  },
  {
   "cell_type": "code",
   "execution_count": 6,
   "metadata": {},
   "outputs": [],
   "source": [
    "# creating collection\n",
    "Coll = db[\"Tweets\"]"
   ]
  },
  {
   "cell_type": "code",
   "execution_count": 6,
   "metadata": {},
   "outputs": [],
   "source": [
    "from bson.json_util import loads\n",
    "    \n",
    "with open('fetched_tweets.json','r') as file:\n",
    "    data = [json.loads(f) for f in file] "
   ]
  },
  {
   "cell_type": "code",
   "execution_count": 7,
   "metadata": {
    "collapsed": true
   },
   "outputs": [
    {
     "name": "stderr",
     "output_type": "stream",
     "text": [
      "C:\\Users\\NITISH\\Anaconda3\\lib\\site-packages\\ipykernel_launcher.py:2: DeprecationWarning: insert is deprecated. Use insert_one or insert_many instead.\n",
      "  \n"
     ]
    },
    {
     "data": {
      "text/plain": [
       "[ObjectId('619a5df8346ff6a5891c4724'),\n",
       " ObjectId('619a5df8346ff6a5891c4725'),\n",
       " ObjectId('619a5df8346ff6a5891c4726'),\n",
       " ObjectId('619a5df8346ff6a5891c4727'),\n",
       " ObjectId('619a5df8346ff6a5891c4728'),\n",
       " ObjectId('619a5df8346ff6a5891c4729'),\n",
       " ObjectId('619a5df8346ff6a5891c472a'),\n",
       " ObjectId('619a5df8346ff6a5891c472b'),\n",
       " ObjectId('619a5df8346ff6a5891c472c'),\n",
       " ObjectId('619a5df8346ff6a5891c472d'),\n",
       " ObjectId('619a5df8346ff6a5891c472e'),\n",
       " ObjectId('619a5df8346ff6a5891c472f'),\n",
       " ObjectId('619a5df8346ff6a5891c4730'),\n",
       " ObjectId('619a5df8346ff6a5891c4731'),\n",
       " ObjectId('619a5df8346ff6a5891c4732'),\n",
       " ObjectId('619a5df8346ff6a5891c4733'),\n",
       " ObjectId('619a5df8346ff6a5891c4734'),\n",
       " ObjectId('619a5df8346ff6a5891c4735'),\n",
       " ObjectId('619a5df8346ff6a5891c4736'),\n",
       " ObjectId('619a5df8346ff6a5891c4737'),\n",
       " ObjectId('619a5df8346ff6a5891c4738'),\n",
       " ObjectId('619a5df8346ff6a5891c4739'),\n",
       " ObjectId('619a5df8346ff6a5891c473a'),\n",
       " ObjectId('619a5df8346ff6a5891c473b'),\n",
       " ObjectId('619a5df8346ff6a5891c473c'),\n",
       " ObjectId('619a5df8346ff6a5891c473d'),\n",
       " ObjectId('619a5df8346ff6a5891c473e'),\n",
       " ObjectId('619a5df8346ff6a5891c473f'),\n",
       " ObjectId('619a5df8346ff6a5891c4740'),\n",
       " ObjectId('619a5df8346ff6a5891c4741'),\n",
       " ObjectId('619a5df8346ff6a5891c4742'),\n",
       " ObjectId('619a5df8346ff6a5891c4743'),\n",
       " ObjectId('619a5df8346ff6a5891c4744'),\n",
       " ObjectId('619a5df8346ff6a5891c4745'),\n",
       " ObjectId('619a5df8346ff6a5891c4746'),\n",
       " ObjectId('619a5df8346ff6a5891c4747'),\n",
       " ObjectId('619a5df8346ff6a5891c4748'),\n",
       " ObjectId('619a5df8346ff6a5891c4749'),\n",
       " ObjectId('619a5df8346ff6a5891c474a'),\n",
       " ObjectId('619a5df8346ff6a5891c474b'),\n",
       " ObjectId('619a5df8346ff6a5891c474c')]"
      ]
     },
     "execution_count": 7,
     "metadata": {},
     "output_type": "execute_result"
    }
   ],
   "source": [
    "Coll.insert(data)"
   ]
  },
  {
   "cell_type": "markdown",
   "metadata": {},
   "source": [
    "### Creating dataframe "
   ]
  },
  {
   "cell_type": "code",
   "execution_count": 7,
   "metadata": {},
   "outputs": [],
   "source": [
    "rec=Coll.aggregate([ \n",
    "    { '$project': {'created_at':1,'text':1,'lang':1,'place':1}}\n",
    "])"
   ]
  },
  {
   "cell_type": "code",
   "execution_count": 8,
   "metadata": {},
   "outputs": [],
   "source": [
    "res=list(rec)"
   ]
  },
  {
   "cell_type": "code",
   "execution_count": 9,
   "metadata": {},
   "outputs": [
    {
     "name": "stdout",
     "output_type": "stream",
     "text": [
      "<class 'pymongo.collection.Collection'>\n"
     ]
    },
    {
     "data": {
      "text/plain": [
       "{'_id': ObjectId('619a5df8346ff6a5891c4724'),\n",
       " 'created_at': 'Sun Nov 21 10:22:30 +0000 2021',\n",
       " 'text': 'RT @BartDeMeulenaer: Laten de 5 vragen van Tony Benn (google het maar) stellen a/d virocraten.\\n(Voordat links schuimbekt; hij was van Labou…',\n",
       " 'place': None,\n",
       " 'lang': 'nl'}"
      ]
     },
     "execution_count": 9,
     "metadata": {},
     "output_type": "execute_result"
    }
   ],
   "source": [
    "print(type(Coll))\n",
    "res[0]"
   ]
  },
  {
   "cell_type": "code",
   "execution_count": 10,
   "metadata": {},
   "outputs": [
    {
     "data": {
      "text/html": [
       "<div>\n",
       "<style scoped>\n",
       "    .dataframe tbody tr th:only-of-type {\n",
       "        vertical-align: middle;\n",
       "    }\n",
       "\n",
       "    .dataframe tbody tr th {\n",
       "        vertical-align: top;\n",
       "    }\n",
       "\n",
       "    .dataframe thead th {\n",
       "        text-align: right;\n",
       "    }\n",
       "</style>\n",
       "<table border=\"1\" class=\"dataframe\">\n",
       "  <thead>\n",
       "    <tr style=\"text-align: right;\">\n",
       "      <th></th>\n",
       "    </tr>\n",
       "  </thead>\n",
       "  <tbody>\n",
       "  </tbody>\n",
       "</table>\n",
       "</div>"
      ],
      "text/plain": [
       "Empty DataFrame\n",
       "Columns: []\n",
       "Index: []"
      ]
     },
     "execution_count": 10,
     "metadata": {},
     "output_type": "execute_result"
    }
   ],
   "source": [
    "from pandas.io.json import json_normalize\n",
    "df=json_normalize(rec)\n",
    "df.head()"
   ]
  },
  {
   "cell_type": "code",
   "execution_count": 11,
   "metadata": {},
   "outputs": [],
   "source": [
    "df1=pd.DataFrame(res)"
   ]
  },
  {
   "cell_type": "code",
   "execution_count": 12,
   "metadata": {},
   "outputs": [
    {
     "data": {
      "text/html": [
       "<div>\n",
       "<style scoped>\n",
       "    .dataframe tbody tr th:only-of-type {\n",
       "        vertical-align: middle;\n",
       "    }\n",
       "\n",
       "    .dataframe tbody tr th {\n",
       "        vertical-align: top;\n",
       "    }\n",
       "\n",
       "    .dataframe thead th {\n",
       "        text-align: right;\n",
       "    }\n",
       "</style>\n",
       "<table border=\"1\" class=\"dataframe\">\n",
       "  <thead>\n",
       "    <tr style=\"text-align: right;\">\n",
       "      <th></th>\n",
       "      <th>_id</th>\n",
       "      <th>created_at</th>\n",
       "      <th>text</th>\n",
       "      <th>place</th>\n",
       "      <th>lang</th>\n",
       "    </tr>\n",
       "  </thead>\n",
       "  <tbody>\n",
       "    <tr>\n",
       "      <td>0</td>\n",
       "      <td>619a5df8346ff6a5891c4724</td>\n",
       "      <td>Sun Nov 21 10:22:30 +0000 2021</td>\n",
       "      <td>RT @BartDeMeulenaer: Laten de 5 vragen van Ton...</td>\n",
       "      <td>None</td>\n",
       "      <td>nl</td>\n",
       "    </tr>\n",
       "    <tr>\n",
       "      <td>1</td>\n",
       "      <td>619a5df8346ff6a5891c4725</td>\n",
       "      <td>Sun Nov 21 10:22:30 +0000 2021</td>\n",
       "      <td>@boi_samirah @AntifaRepresent @ItsKingsBruh I ...</td>\n",
       "      <td>None</td>\n",
       "      <td>en</td>\n",
       "    </tr>\n",
       "    <tr>\n",
       "      <td>2</td>\n",
       "      <td>619a5df8346ff6a5891c4726</td>\n",
       "      <td>Sun Nov 21 10:22:30 +0000 2021</td>\n",
       "      <td>This the best project everyone is waiting for....</td>\n",
       "      <td>None</td>\n",
       "      <td>en</td>\n",
       "    </tr>\n",
       "    <tr>\n",
       "      <td>3</td>\n",
       "      <td>619a5df8346ff6a5891c4727</td>\n",
       "      <td>Sun Nov 21 10:22:30 +0000 2021</td>\n",
       "      <td>RT @forkimsunoossi: EN-CONNECT COMPANION: JAPA...</td>\n",
       "      <td>None</td>\n",
       "      <td>en</td>\n",
       "    </tr>\n",
       "    <tr>\n",
       "      <td>4</td>\n",
       "      <td>619a5df8346ff6a5891c4728</td>\n",
       "      <td>Sun Nov 21 07:58:40 +0000 2021</td>\n",
       "      <td>RT @sornorjud: ℊ𝒾𝓋ℯ 𝒶𝓌𝒶𝓎 𝓅𝓇ℴ𝒸𝓇ℯ𝒶𝓉ℯ 𝒷𝓇𝓊𝓈𝒽\\n𝓅𝓁𝓈 ...</td>\n",
       "      <td>None</td>\n",
       "      <td>en</td>\n",
       "    </tr>\n",
       "  </tbody>\n",
       "</table>\n",
       "</div>"
      ],
      "text/plain": [
       "                        _id                      created_at  \\\n",
       "0  619a5df8346ff6a5891c4724  Sun Nov 21 10:22:30 +0000 2021   \n",
       "1  619a5df8346ff6a5891c4725  Sun Nov 21 10:22:30 +0000 2021   \n",
       "2  619a5df8346ff6a5891c4726  Sun Nov 21 10:22:30 +0000 2021   \n",
       "3  619a5df8346ff6a5891c4727  Sun Nov 21 10:22:30 +0000 2021   \n",
       "4  619a5df8346ff6a5891c4728  Sun Nov 21 07:58:40 +0000 2021   \n",
       "\n",
       "                                                text place lang  \n",
       "0  RT @BartDeMeulenaer: Laten de 5 vragen van Ton...  None   nl  \n",
       "1  @boi_samirah @AntifaRepresent @ItsKingsBruh I ...  None   en  \n",
       "2  This the best project everyone is waiting for....  None   en  \n",
       "3  RT @forkimsunoossi: EN-CONNECT COMPANION: JAPA...  None   en  \n",
       "4  RT @sornorjud: ℊ𝒾𝓋ℯ 𝒶𝓌𝒶𝓎 𝓅𝓇ℴ𝒸𝓇ℯ𝒶𝓉ℯ 𝒷𝓇𝓊𝓈𝒽\\n𝓅𝓁𝓈 ...  None   en  "
      ]
     },
     "execution_count": 12,
     "metadata": {},
     "output_type": "execute_result"
    }
   ],
   "source": [
    "df1.head()"
   ]
  },
  {
   "cell_type": "code",
   "execution_count": 13,
   "metadata": {},
   "outputs": [],
   "source": [
    "import json\n",
    "import pandas as pd\n",
    "import collections\n",
    "import matplotlib.pyplot as plt\n",
    "import numpy as np"
   ]
  },
  {
   "cell_type": "code",
   "execution_count": null,
   "metadata": {},
   "outputs": [],
   "source": [
    "rec=Coll.aggregate([ \n",
    "    { '$project': {'created_at':1,'text':1,'lang':1,'place':1}}\n",
    "])"
   ]
  },
  {
   "cell_type": "code",
   "execution_count": 20,
   "metadata": {},
   "outputs": [
    {
     "data": {
      "text/plain": [
       "41"
      ]
     },
     "execution_count": 20,
     "metadata": {},
     "output_type": "execute_result"
    }
   ],
   "source": [
    "len(Coll.distinct(\"user.id\"))"
   ]
  },
  {
   "cell_type": "code",
   "execution_count": 49,
   "metadata": {},
   "outputs": [],
   "source": [
    "user_status_count=Coll.aggregate([ \n",
    "    { '$group': {'_id':'$user.screen_name','StatusesCount':{'$sum':'$user.statuses_count'}}}\n",
    "])\n",
    "usc_list=list(user_status_count)\n",
    "usc=pd.DataFrame.from_dict(usc_list)\n",
    "usc.rename(columns={'_id': 'Screen_Name', 'StatusesCount': 'Statuses_Count'}, inplace=True)\n",
    "usc = usc.sort_values('Statuses_Count',ascending=False)"
   ]
  },
  {
   "cell_type": "code",
   "execution_count": 50,
   "metadata": {
    "collapsed": true
   },
   "outputs": [
    {
     "data": {
      "text/html": [
       "<div>\n",
       "<style scoped>\n",
       "    .dataframe tbody tr th:only-of-type {\n",
       "        vertical-align: middle;\n",
       "    }\n",
       "\n",
       "    .dataframe tbody tr th {\n",
       "        vertical-align: top;\n",
       "    }\n",
       "\n",
       "    .dataframe thead th {\n",
       "        text-align: right;\n",
       "    }\n",
       "</style>\n",
       "<table border=\"1\" class=\"dataframe\">\n",
       "  <thead>\n",
       "    <tr style=\"text-align: right;\">\n",
       "      <th></th>\n",
       "      <th>Screen_Name</th>\n",
       "      <th>Statuses_Count</th>\n",
       "    </tr>\n",
       "  </thead>\n",
       "  <tbody>\n",
       "    <tr>\n",
       "      <td>21</td>\n",
       "      <td>Osama_otero</td>\n",
       "      <td>186290</td>\n",
       "    </tr>\n",
       "    <tr>\n",
       "      <td>11</td>\n",
       "      <td>pegeert</td>\n",
       "      <td>57151</td>\n",
       "    </tr>\n",
       "    <tr>\n",
       "      <td>31</td>\n",
       "      <td>mrsk_ing</td>\n",
       "      <td>33268</td>\n",
       "    </tr>\n",
       "    <tr>\n",
       "      <td>10</td>\n",
       "      <td>oblivixci</td>\n",
       "      <td>32964</td>\n",
       "    </tr>\n",
       "    <tr>\n",
       "      <td>34</td>\n",
       "      <td>tri7Qimura</td>\n",
       "      <td>26105</td>\n",
       "    </tr>\n",
       "    <tr>\n",
       "      <td>22</td>\n",
       "      <td>AlvesTF</td>\n",
       "      <td>25677</td>\n",
       "    </tr>\n",
       "    <tr>\n",
       "      <td>0</td>\n",
       "      <td>disayanghost</td>\n",
       "      <td>22993</td>\n",
       "    </tr>\n",
       "    <tr>\n",
       "      <td>14</td>\n",
       "      <td>mintumeshu</td>\n",
       "      <td>22171</td>\n",
       "    </tr>\n",
       "    <tr>\n",
       "      <td>8</td>\n",
       "      <td>ufecityx</td>\n",
       "      <td>17137</td>\n",
       "    </tr>\n",
       "    <tr>\n",
       "      <td>26</td>\n",
       "      <td>ricarduscaseus</td>\n",
       "      <td>16305</td>\n",
       "    </tr>\n",
       "    <tr>\n",
       "      <td>39</td>\n",
       "      <td>BoAungD06969542</td>\n",
       "      <td>14996</td>\n",
       "    </tr>\n",
       "    <tr>\n",
       "      <td>20</td>\n",
       "      <td>yuitarot</td>\n",
       "      <td>13056</td>\n",
       "    </tr>\n",
       "    <tr>\n",
       "      <td>23</td>\n",
       "      <td>trudr_roberts</td>\n",
       "      <td>12280</td>\n",
       "    </tr>\n",
       "    <tr>\n",
       "      <td>2</td>\n",
       "      <td>VihoangBactan</td>\n",
       "      <td>6264</td>\n",
       "    </tr>\n",
       "    <tr>\n",
       "      <td>36</td>\n",
       "      <td>GigiMartini13</td>\n",
       "      <td>6073</td>\n",
       "    </tr>\n",
       "    <tr>\n",
       "      <td>40</td>\n",
       "      <td>GwenziBoomin</td>\n",
       "      <td>5799</td>\n",
       "    </tr>\n",
       "    <tr>\n",
       "      <td>1</td>\n",
       "      <td>YellowAuf</td>\n",
       "      <td>4476</td>\n",
       "    </tr>\n",
       "    <tr>\n",
       "      <td>5</td>\n",
       "      <td>kyutocityx</td>\n",
       "      <td>4294</td>\n",
       "    </tr>\n",
       "    <tr>\n",
       "      <td>25</td>\n",
       "      <td>umechan__desu</td>\n",
       "      <td>3582</td>\n",
       "    </tr>\n",
       "    <tr>\n",
       "      <td>4</td>\n",
       "      <td>be_anis_</td>\n",
       "      <td>2414</td>\n",
       "    </tr>\n",
       "    <tr>\n",
       "      <td>7</td>\n",
       "      <td>CardesRic</td>\n",
       "      <td>2335</td>\n",
       "    </tr>\n",
       "    <tr>\n",
       "      <td>12</td>\n",
       "      <td>mariomaxvv</td>\n",
       "      <td>2185</td>\n",
       "    </tr>\n",
       "    <tr>\n",
       "      <td>17</td>\n",
       "      <td>princeTK89</td>\n",
       "      <td>2032</td>\n",
       "    </tr>\n",
       "    <tr>\n",
       "      <td>24</td>\n",
       "      <td>mituami32</td>\n",
       "      <td>1856</td>\n",
       "    </tr>\n",
       "    <tr>\n",
       "      <td>32</td>\n",
       "      <td>nanomint_</td>\n",
       "      <td>1553</td>\n",
       "    </tr>\n",
       "    <tr>\n",
       "      <td>3</td>\n",
       "      <td>Berden06477419</td>\n",
       "      <td>1449</td>\n",
       "    </tr>\n",
       "    <tr>\n",
       "      <td>9</td>\n",
       "      <td>2kuresin</td>\n",
       "      <td>1257</td>\n",
       "    </tr>\n",
       "    <tr>\n",
       "      <td>13</td>\n",
       "      <td>LeendertTanis</td>\n",
       "      <td>1140</td>\n",
       "    </tr>\n",
       "    <tr>\n",
       "      <td>15</td>\n",
       "      <td>naiagarapopow</td>\n",
       "      <td>1025</td>\n",
       "    </tr>\n",
       "    <tr>\n",
       "      <td>33</td>\n",
       "      <td>WasiuAkinleye1</td>\n",
       "      <td>883</td>\n",
       "    </tr>\n",
       "    <tr>\n",
       "      <td>6</td>\n",
       "      <td>DanielMjinja</td>\n",
       "      <td>459</td>\n",
       "    </tr>\n",
       "    <tr>\n",
       "      <td>19</td>\n",
       "      <td>kaartics</td>\n",
       "      <td>338</td>\n",
       "    </tr>\n",
       "    <tr>\n",
       "      <td>30</td>\n",
       "      <td>Zisu82849872</td>\n",
       "      <td>329</td>\n",
       "    </tr>\n",
       "    <tr>\n",
       "      <td>37</td>\n",
       "      <td>KhairaGagan999</td>\n",
       "      <td>268</td>\n",
       "    </tr>\n",
       "    <tr>\n",
       "      <td>29</td>\n",
       "      <td>Its_ranjit_r24</td>\n",
       "      <td>262</td>\n",
       "    </tr>\n",
       "    <tr>\n",
       "      <td>35</td>\n",
       "      <td>DvkerGates500</td>\n",
       "      <td>213</td>\n",
       "    </tr>\n",
       "    <tr>\n",
       "      <td>28</td>\n",
       "      <td>_Official_Jairo</td>\n",
       "      <td>125</td>\n",
       "    </tr>\n",
       "    <tr>\n",
       "      <td>16</td>\n",
       "      <td>rrbnam</td>\n",
       "      <td>98</td>\n",
       "    </tr>\n",
       "    <tr>\n",
       "      <td>18</td>\n",
       "      <td>KS_sxxng</td>\n",
       "      <td>55</td>\n",
       "    </tr>\n",
       "    <tr>\n",
       "      <td>38</td>\n",
       "      <td>ju1e5_</td>\n",
       "      <td>43</td>\n",
       "    </tr>\n",
       "    <tr>\n",
       "      <td>27</td>\n",
       "      <td>Afiqxxxy</td>\n",
       "      <td>6</td>\n",
       "    </tr>\n",
       "  </tbody>\n",
       "</table>\n",
       "</div>"
      ],
      "text/plain": [
       "        Screen_Name  Statuses_Count\n",
       "21      Osama_otero          186290\n",
       "11          pegeert           57151\n",
       "31         mrsk_ing           33268\n",
       "10        oblivixci           32964\n",
       "34       tri7Qimura           26105\n",
       "22          AlvesTF           25677\n",
       "0      disayanghost           22993\n",
       "14       mintumeshu           22171\n",
       "8          ufecityx           17137\n",
       "26   ricarduscaseus           16305\n",
       "39  BoAungD06969542           14996\n",
       "20         yuitarot           13056\n",
       "23    trudr_roberts           12280\n",
       "2     VihoangBactan            6264\n",
       "36    GigiMartini13            6073\n",
       "40     GwenziBoomin            5799\n",
       "1         YellowAuf            4476\n",
       "5        kyutocityx            4294\n",
       "25    umechan__desu            3582\n",
       "4          be_anis_            2414\n",
       "7         CardesRic            2335\n",
       "12       mariomaxvv            2185\n",
       "17       princeTK89            2032\n",
       "24        mituami32            1856\n",
       "32        nanomint_            1553\n",
       "3    Berden06477419            1449\n",
       "9          2kuresin            1257\n",
       "13    LeendertTanis            1140\n",
       "15    naiagarapopow            1025\n",
       "33   WasiuAkinleye1             883\n",
       "6      DanielMjinja             459\n",
       "19         kaartics             338\n",
       "30     Zisu82849872             329\n",
       "37   KhairaGagan999             268\n",
       "29   Its_ranjit_r24             262\n",
       "35    DvkerGates500             213\n",
       "28  _Official_Jairo             125\n",
       "16           rrbnam              98\n",
       "18         KS_sxxng              55\n",
       "38           ju1e5_              43\n",
       "27         Afiqxxxy               6"
      ]
     },
     "execution_count": 50,
     "metadata": {},
     "output_type": "execute_result"
    }
   ],
   "source": [
    "usc.head(41)"
   ]
  },
  {
   "cell_type": "code",
   "execution_count": 48,
   "metadata": {
    "collapsed": true
   },
   "outputs": [
    {
     "data": {
      "text/plain": [
       "<matplotlib.axes._subplots.AxesSubplot at 0x1a5bed1e348>"
      ]
     },
     "execution_count": 48,
     "metadata": {},
     "output_type": "execute_result"
    },
    {
     "data": {
      "image/png": "[encoded data removed]",
      "text/plain": [
       "<Figure size 432x288 with 1 Axes>"
      ]
     },
     "metadata": {
      "needs_background": "light"
     },
     "output_type": "display_data"
    }
   ],
   "source": [
    "usc.plot(x ='Screen_Name', y='Statuses_Count', kind = 'bar')"
   ]
  },
  {
   "cell_type": "code",
   "execution_count": 105,
   "metadata": {},
   "outputs": [
    {
     "data": {
      "text/plain": [
       "<BarContainer object of 5 artists>"
      ]
     },
     "execution_count": 105,
     "metadata": {},
     "output_type": "execute_result"
    },
    {
     "data": {
      "image/png": "[encoded data removed]",
      "text/plain": [
       "<Figure size 432x288 with 1 Axes>"
      ]
     },
     "metadata": {
      "needs_background": "light"
     },
     "output_type": "display_data"
    },
    {
     "data": {
      "image/png": "[encoded data removed]",
      "text/plain": [
       "<Figure size 432x288 with 1 Axes>"
      ]
     },
     "metadata": {
      "needs_background": "light"
     },
     "output_type": "display_data"
    }
   ],
   "source": [
    "tweets_by_country = df1['lang'].value_counts()\n",
    "\n",
    "#displaying tweets graphically\n",
    "tweets_by_country = df1['lang'].value_counts()\n",
    "\n",
    "fig, ax = plt.subplots()\n",
    "ax.tick_params(axis='x', labelsize=20)\n",
    "ax.tick_params(axis='y', labelsize=15)\n",
    "ax.set_xlabel('Languages', fontsize=20)\n",
    "ax.set_ylabel('Number of tweets' , fontsize=15)\n",
    "ax.set_title('Top 5 languages', fontsize=15, fontweight='bold')\n",
    "tweets_by_country[:5].plot(ax=ax, kind='bar', color='blue')\n",
    "\n",
    "countryList = list(df1['lang'])\n",
    "countries = []\n",
    "for val in countryList:\n",
    "    if val != None:\n",
    "        countries.append(val)\n",
    "counter=collections.Counter(countries)\n",
    "valueList = list(counter.values())\n",
    "valueList.sort(reverse=True)\n",
    "keyList = list(tweets_by_country.index)\n",
    "valueTop = valueList[:5]\n",
    "keyTop = keyList[:5]\n",
    "fig = plt.figure()\n",
    "ax = fig.add_axes([0,0,1,1])\n",
    "ax.bar(keyTop,valueTop)\n",
    "#plt.show()\n",
    "#print(tweets_by_country)"
   ]
  },
  {
   "cell_type": "code",
   "execution_count": null,
   "metadata": {},
   "outputs": [],
   "source": [
    "keyList=list(usc['Screen_Name'])\n",
    "valueList=list(usc['Statuses_Count'])\n",
    "valueTop = valueList[:5]\n",
    "keyTop = keyList[:5]\n",
    "#plt.figure(figsize=(10,10))\n",
    "plt.bar(keyTop,valueTop , color='blue')\n",
    "plt.xlabel('Screen Name', fontsize=20)\n",
    "plt.ylabel('Statuses Count' , fontsize=15)\n",
    "plt.title('Top 5 Statuses Count', fontsize=15, fontweight='bold')\n",
    "plt.ticklabel_format(axis=\"y\", style=\"plain\")"
   ]
  },
  {
   "cell_type": "code",
   "execution_count": 71,
   "metadata": {},
   "outputs": [],
   "source": [
    "url_rec=Coll.aggregate([ \n",
    "    { '$project': {'entities':1}}\n",
    "])"
   ]
  },
  {
   "cell_type": "code",
   "execution_count": 72,
   "metadata": {},
   "outputs": [],
   "source": [
    "url_resc=list(url_rec)"
   ]
  },
  {
   "cell_type": "code",
   "execution_count": 73,
   "metadata": {},
   "outputs": [
    {
     "data": {
      "text/plain": [
       "{'_id': ObjectId('619a5df8346ff6a5891c4725'),\n",
       " 'entities': {'hashtags': [],\n",
       "  'urls': [{'url': 'https://t.co/bcN9Ibhp9J',\n",
       "    'expanded_url': 'https://twitter.com/i/web/status/1462365799507714049',\n",
       "    'display_url': 'twitter.com/i/web/status/1…',\n",
       "    'indices': [117, 140]}],\n",
       "  'user_mentions': [{'screen_name': 'boi_samirah',\n",
       "    'name': 'Boizzy',\n",
       "    'id': 341251311,\n",
       "    'id_str': '341251311',\n",
       "    'indices': [0, 12]},\n",
       "   {'screen_name': 'AntifaRepresent',\n",
       "    'name': '☭',\n",
       "    'id': 773065079235325953,\n",
       "    'id_str': '773065079235325953',\n",
       "    'indices': [13, 29]},\n",
       "   {'screen_name': 'ItsKingsBruh',\n",
       "    'name': 'Kings',\n",
       "    'id': 1183952233777389568,\n",
       "    'id_str': '1183952233777389568',\n",
       "    'indices': [30, 43]}],\n",
       "  'symbols': []}}"
      ]
     },
     "execution_count": 73,
     "metadata": {},
     "output_type": "execute_result"
    }
   ],
   "source": [
    "url_resc[1]"
   ]
  },
  {
   "cell_type": "code",
   "execution_count": 69,
   "metadata": {},
   "outputs": [
    {
     "data": {
      "text/plain": [
       "{'_id': ObjectId('619a5df8346ff6a5891c4724'),\n",
       " 'id': 1462365799587454977,\n",
       " 'entities': {'hashtags': [],\n",
       "  'urls': [],\n",
       "  'user_mentions': [{'screen_name': 'BartDeMeulenaer',\n",
       "    'name': 'Bart De Meulenaer',\n",
       "    'id': 426518737,\n",
       "    'id_str': '426518737',\n",
       "    'indices': [3, 19]}],\n",
       "  'symbols': []}}"
      ]
     },
     "execution_count": 69,
     "metadata": {},
     "output_type": "execute_result"
    }
   ],
   "source": [
    "(url_res[0])"
   ]
  },
  {
   "cell_type": "code",
   "execution_count": 64,
   "metadata": {},
   "outputs": [],
   "source": [
    "url=pd.DataFrame(url_res)"
   ]
  },
  {
   "cell_type": "code",
   "execution_count": 65,
   "metadata": {},
   "outputs": [
    {
     "data": {
      "text/html": [
       "<div>\n",
       "<style scoped>\n",
       "    .dataframe tbody tr th:only-of-type {\n",
       "        vertical-align: middle;\n",
       "    }\n",
       "\n",
       "    .dataframe tbody tr th {\n",
       "        vertical-align: top;\n",
       "    }\n",
       "\n",
       "    .dataframe thead th {\n",
       "        text-align: right;\n",
       "    }\n",
       "</style>\n",
       "<table border=\"1\" class=\"dataframe\">\n",
       "  <thead>\n",
       "    <tr style=\"text-align: right;\">\n",
       "      <th></th>\n",
       "      <th>_id</th>\n",
       "      <th>entities</th>\n",
       "    </tr>\n",
       "  </thead>\n",
       "  <tbody>\n",
       "    <tr>\n",
       "      <td>0</td>\n",
       "      <td>619a5df8346ff6a5891c4724</td>\n",
       "      <td>{'urls': []}</td>\n",
       "    </tr>\n",
       "    <tr>\n",
       "      <td>1</td>\n",
       "      <td>619a5df8346ff6a5891c4725</td>\n",
       "      <td>{'urls': [{'display_url': 'twitter.com/i/web/s...</td>\n",
       "    </tr>\n",
       "    <tr>\n",
       "      <td>2</td>\n",
       "      <td>619a5df8346ff6a5891c4726</td>\n",
       "      <td>{'urls': [{'display_url': 'twitter.com/i/web/s...</td>\n",
       "    </tr>\n",
       "    <tr>\n",
       "      <td>3</td>\n",
       "      <td>619a5df8346ff6a5891c4727</td>\n",
       "      <td>{'urls': []}</td>\n",
       "    </tr>\n",
       "    <tr>\n",
       "      <td>4</td>\n",
       "      <td>619a5df8346ff6a5891c4728</td>\n",
       "      <td>{'urls': [{'display_url': 'drive.google.com/fi...</td>\n",
       "    </tr>\n",
       "  </tbody>\n",
       "</table>\n",
       "</div>"
      ],
      "text/plain": [
       "                        _id                                           entities\n",
       "0  619a5df8346ff6a5891c4724                                       {'urls': []}\n",
       "1  619a5df8346ff6a5891c4725  {'urls': [{'display_url': 'twitter.com/i/web/s...\n",
       "2  619a5df8346ff6a5891c4726  {'urls': [{'display_url': 'twitter.com/i/web/s...\n",
       "3  619a5df8346ff6a5891c4727                                       {'urls': []}\n",
       "4  619a5df8346ff6a5891c4728  {'urls': [{'display_url': 'drive.google.com/fi..."
      ]
     },
     "execution_count": 65,
     "metadata": {},
     "output_type": "execute_result"
    }
   ],
   "source": [
    "url.head()"
   ]
  },
  {
   "cell_type": "code",
   "execution_count": 129,
   "metadata": {},
   "outputs": [
    {
     "data": {
      "text/html": [
       "<div>\n",
       "<style scoped>\n",
       "    .dataframe tbody tr th:only-of-type {\n",
       "        vertical-align: middle;\n",
       "    }\n",
       "\n",
       "    .dataframe tbody tr th {\n",
       "        vertical-align: top;\n",
       "    }\n",
       "\n",
       "    .dataframe thead th {\n",
       "        text-align: right;\n",
       "    }\n",
       "</style>\n",
       "<table border=\"1\" class=\"dataframe\">\n",
       "  <thead>\n",
       "    <tr style=\"text-align: right;\">\n",
       "      <th></th>\n",
       "      <th>id</th>\n",
       "      <th>User_id</th>\n",
       "    </tr>\n",
       "  </thead>\n",
       "  <tbody>\n",
       "    <tr>\n",
       "      <td>0</td>\n",
       "      <td>619a5df8346ff6a5891c4724</td>\n",
       "      <td>3601138582</td>\n",
       "    </tr>\n",
       "    <tr>\n",
       "      <td>1</td>\n",
       "      <td>619a5df8346ff6a5891c4725</td>\n",
       "      <td>983049594786471936</td>\n",
       "    </tr>\n",
       "    <tr>\n",
       "      <td>2</td>\n",
       "      <td>619a5df8346ff6a5891c4726</td>\n",
       "      <td>1411049001940668420</td>\n",
       "    </tr>\n",
       "    <tr>\n",
       "      <td>3</td>\n",
       "      <td>619a5df8346ff6a5891c4727</td>\n",
       "      <td>1054283724</td>\n",
       "    </tr>\n",
       "    <tr>\n",
       "      <td>4</td>\n",
       "      <td>619a5df8346ff6a5891c4728</td>\n",
       "      <td>1381123189225316352</td>\n",
       "    </tr>\n",
       "  </tbody>\n",
       "</table>\n",
       "</div>"
      ],
      "text/plain": [
       "                         id              User_id\n",
       "0  619a5df8346ff6a5891c4724           3601138582\n",
       "1  619a5df8346ff6a5891c4725   983049594786471936\n",
       "2  619a5df8346ff6a5891c4726  1411049001940668420\n",
       "3  619a5df8346ff6a5891c4727           1054283724\n",
       "4  619a5df8346ff6a5891c4728  1381123189225316352"
      ]
     },
     "execution_count": 129,
     "metadata": {},
     "output_type": "execute_result"
    }
   ],
   "source": [
    "user_name=Coll.aggregate([ \n",
    "    { '$project': {'user.id':1}}\n",
    "])\n",
    "\n",
    "user=list(user_name)\n",
    "#print(len(user))\n",
    "user_p=pd.DataFrame(user)\n",
    "#user Screen Name\n",
    "usn=pd.DataFrame()\n",
    "usn['id']=user_p['_id']\n",
    "usn['User_id']=list(map(lambda tweet : tweet['id'], user_p.user))\n",
    "usn.head()"
   ]
  },
  {
   "cell_type": "code",
   "execution_count": 130,
   "metadata": {},
   "outputs": [
    {
     "data": {
      "text/plain": [
       "41"
      ]
     },
     "execution_count": 130,
     "metadata": {},
     "output_type": "execute_result"
    }
   ],
   "source": [
    "usn.User_id.nunique()"
   ]
  },
  {
   "cell_type": "code",
   "execution_count": 119,
   "metadata": {},
   "outputs": [
    {
     "data": {
      "text/html": [
       "<div>\n",
       "<style scoped>\n",
       "    .dataframe tbody tr th:only-of-type {\n",
       "        vertical-align: middle;\n",
       "    }\n",
       "\n",
       "    .dataframe tbody tr th {\n",
       "        vertical-align: top;\n",
       "    }\n",
       "\n",
       "    .dataframe thead th {\n",
       "        text-align: right;\n",
       "    }\n",
       "</style>\n",
       "<table border=\"1\" class=\"dataframe\">\n",
       "  <thead>\n",
       "    <tr style=\"text-align: right;\">\n",
       "      <th></th>\n",
       "      <th>_id</th>\n",
       "      <th>user</th>\n",
       "    </tr>\n",
       "  </thead>\n",
       "  <tbody>\n",
       "    <tr>\n",
       "      <td>0</td>\n",
       "      <td>619a5df8346ff6a5891c4724</td>\n",
       "      <td>{'screen_name': 'pegeert', 'protected': False}</td>\n",
       "    </tr>\n",
       "    <tr>\n",
       "      <td>1</td>\n",
       "      <td>619a5df8346ff6a5891c4725</td>\n",
       "      <td>{'screen_name': 'GwenziBoomin', 'protected': F...</td>\n",
       "    </tr>\n",
       "    <tr>\n",
       "      <td>2</td>\n",
       "      <td>619a5df8346ff6a5891c4726</td>\n",
       "      <td>{'screen_name': 'WasiuAkinleye1', 'protected':...</td>\n",
       "    </tr>\n",
       "    <tr>\n",
       "      <td>3</td>\n",
       "      <td>619a5df8346ff6a5891c4727</td>\n",
       "      <td>{'screen_name': 'rrbnam', 'protected': False}</td>\n",
       "    </tr>\n",
       "    <tr>\n",
       "      <td>4</td>\n",
       "      <td>619a5df8346ff6a5891c4728</td>\n",
       "      <td>{'screen_name': 'KS_sxxng', 'protected': False}</td>\n",
       "    </tr>\n",
       "  </tbody>\n",
       "</table>\n",
       "</div>"
      ],
      "text/plain": [
       "                        _id                                               user\n",
       "0  619a5df8346ff6a5891c4724     {'screen_name': 'pegeert', 'protected': False}\n",
       "1  619a5df8346ff6a5891c4725  {'screen_name': 'GwenziBoomin', 'protected': F...\n",
       "2  619a5df8346ff6a5891c4726  {'screen_name': 'WasiuAkinleye1', 'protected':...\n",
       "3  619a5df8346ff6a5891c4727      {'screen_name': 'rrbnam', 'protected': False}\n",
       "4  619a5df8346ff6a5891c4728    {'screen_name': 'KS_sxxng', 'protected': False}"
      ]
     },
     "execution_count": 119,
     "metadata": {},
     "output_type": "execute_result"
    }
   ],
   "source": [
    "user_p.head()#[screen_name]"
   ]
  },
  {
   "cell_type": "code",
   "execution_count": 108,
   "metadata": {},
   "outputs": [],
   "source": [
    "usn=pd.DataFrame()\n",
    "\n",
    "usn['id']=user_p['_id']\n",
    "usn['User_Screen_Name']=list(map(lambda tweet : str(tweet['screen_name']), user_p.user))"
   ]
  },
  {
   "cell_type": "code",
   "execution_count": 115,
   "metadata": {},
   "outputs": [
    {
     "data": {
      "text/plain": [
       "41"
      ]
     },
     "execution_count": 115,
     "metadata": {},
     "output_type": "execute_result"
    }
   ],
   "source": [
    "usn.User_Screen_Name.nunique()"
   ]
  },
  {
   "cell_type": "code",
   "execution_count": 133,
   "metadata": {},
   "outputs": [],
   "source": [
    "user_name=Coll.aggregate([ \n",
    "    { '$project': {'user.location':1}}\n",
    "])\n",
    "\n",
    "user=list(user_name)\n",
    "#print(len(user))\n",
    "user_l=pd.DataFrame(user)"
   ]
  },
  {
   "cell_type": "code",
   "execution_count": 121,
   "metadata": {},
   "outputs": [
    {
     "name": "stdout",
     "output_type": "stream",
     "text": [
      "154\n"
     ]
    }
   ],
   "source": [
    "#user Screen Name\n",
    "usn=pd.DataFrame()\n",
    "usn['id']=user_p['_id']\n",
    "usn['User_id']=list(map(lambda tweet : tweet['id'], user_p.user))\n",
    "usn.head()"
   ]
  },
  {
   "cell_type": "code",
   "execution_count": 134,
   "metadata": {},
   "outputs": [
    {
     "data": {
      "text/html": [
       "<div>\n",
       "<style scoped>\n",
       "    .dataframe tbody tr th:only-of-type {\n",
       "        vertical-align: middle;\n",
       "    }\n",
       "\n",
       "    .dataframe tbody tr th {\n",
       "        vertical-align: top;\n",
       "    }\n",
       "\n",
       "    .dataframe thead th {\n",
       "        text-align: right;\n",
       "    }\n",
       "</style>\n",
       "<table border=\"1\" class=\"dataframe\">\n",
       "  <thead>\n",
       "    <tr style=\"text-align: right;\">\n",
       "      <th></th>\n",
       "      <th>_id</th>\n",
       "      <th>user</th>\n",
       "    </tr>\n",
       "  </thead>\n",
       "  <tbody>\n",
       "    <tr>\n",
       "      <td>0</td>\n",
       "      <td>619a5df8346ff6a5891c4724</td>\n",
       "      <td>{'location': None}</td>\n",
       "    </tr>\n",
       "    <tr>\n",
       "      <td>1</td>\n",
       "      <td>619a5df8346ff6a5891c4725</td>\n",
       "      <td>{'location': 'Los Noches, Hueco Mundo '}</td>\n",
       "    </tr>\n",
       "    <tr>\n",
       "      <td>2</td>\n",
       "      <td>619a5df8346ff6a5891c4726</td>\n",
       "      <td>{'location': None}</td>\n",
       "    </tr>\n",
       "    <tr>\n",
       "      <td>3</td>\n",
       "      <td>619a5df8346ff6a5891c4727</td>\n",
       "      <td>{'location': 'laspinas, Phillipines'}</td>\n",
       "    </tr>\n",
       "    <tr>\n",
       "      <td>4</td>\n",
       "      <td>619a5df8346ff6a5891c4728</td>\n",
       "      <td>{'location': None}</td>\n",
       "    </tr>\n",
       "    <tr>\n",
       "      <td>5</td>\n",
       "      <td>619a5df8346ff6a5891c4729</td>\n",
       "      <td>{'location': 'Franche-Comté, France'}</td>\n",
       "    </tr>\n",
       "    <tr>\n",
       "      <td>6</td>\n",
       "      <td>619a5df8346ff6a5891c472a</td>\n",
       "      <td>{'location': 'Dar es Salaam,Tanzania'}</td>\n",
       "    </tr>\n",
       "    <tr>\n",
       "      <td>7</td>\n",
       "      <td>619a5df8346ff6a5891c472b</td>\n",
       "      <td>{'location': 'Thailand'}</td>\n",
       "    </tr>\n",
       "    <tr>\n",
       "      <td>8</td>\n",
       "      <td>619a5df8346ff6a5891c472c</td>\n",
       "      <td>{'location': 'Nairobi, Kenya'}</td>\n",
       "    </tr>\n",
       "    <tr>\n",
       "      <td>9</td>\n",
       "      <td>619a5df8346ff6a5891c472d</td>\n",
       "      <td>{'location': '91/ Strasbourg'}</td>\n",
       "    </tr>\n",
       "    <tr>\n",
       "      <td>10</td>\n",
       "      <td>619a5df8346ff6a5891c472e</td>\n",
       "      <td>{'location': None}</td>\n",
       "    </tr>\n",
       "    <tr>\n",
       "      <td>11</td>\n",
       "      <td>619a5df8346ff6a5891c472f</td>\n",
       "      <td>{'location': None}</td>\n",
       "    </tr>\n",
       "    <tr>\n",
       "      <td>12</td>\n",
       "      <td>619a5df8346ff6a5891c4730</td>\n",
       "      <td>{'location': 'icon：自作'}</td>\n",
       "    </tr>\n",
       "    <tr>\n",
       "      <td>13</td>\n",
       "      <td>619a5df8346ff6a5891c4731</td>\n",
       "      <td>{'location': None}</td>\n",
       "    </tr>\n",
       "    <tr>\n",
       "      <td>14</td>\n",
       "      <td>619a5df8346ff6a5891c4732</td>\n",
       "      <td>{'location': None}</td>\n",
       "    </tr>\n",
       "    <tr>\n",
       "      <td>15</td>\n",
       "      <td>619a5df8346ff6a5891c4733</td>\n",
       "      <td>{'location': 'India'}</td>\n",
       "    </tr>\n",
       "    <tr>\n",
       "      <td>16</td>\n",
       "      <td>619a5df8346ff6a5891c4734</td>\n",
       "      <td>{'location': None}</td>\n",
       "    </tr>\n",
       "    <tr>\n",
       "      <td>17</td>\n",
       "      <td>619a5df8346ff6a5891c4735</td>\n",
       "      <td>{'location': None}</td>\n",
       "    </tr>\n",
       "    <tr>\n",
       "      <td>18</td>\n",
       "      <td>619a5df8346ff6a5891c4736</td>\n",
       "      <td>{'location': None}</td>\n",
       "    </tr>\n",
       "    <tr>\n",
       "      <td>19</td>\n",
       "      <td>619a5df8346ff6a5891c4737</td>\n",
       "      <td>{'location': None}</td>\n",
       "    </tr>\n",
       "    <tr>\n",
       "      <td>20</td>\n",
       "      <td>619a5df8346ff6a5891c4738</td>\n",
       "      <td>{'location': '日本 東京'}</td>\n",
       "    </tr>\n",
       "    <tr>\n",
       "      <td>21</td>\n",
       "      <td>619a5df8346ff6a5891c4739</td>\n",
       "      <td>{'location': None}</td>\n",
       "    </tr>\n",
       "    <tr>\n",
       "      <td>22</td>\n",
       "      <td>619a5df8346ff6a5891c473a</td>\n",
       "      <td>{'location': None}</td>\n",
       "    </tr>\n",
       "    <tr>\n",
       "      <td>23</td>\n",
       "      <td>619a5df8346ff6a5891c473b</td>\n",
       "      <td>{'location': None}</td>\n",
       "    </tr>\n",
       "    <tr>\n",
       "      <td>24</td>\n",
       "      <td>619a5df8346ff6a5891c473c</td>\n",
       "      <td>{'location': None}</td>\n",
       "    </tr>\n",
       "    <tr>\n",
       "      <td>25</td>\n",
       "      <td>619a5df8346ff6a5891c473d</td>\n",
       "      <td>{'location': 'ㅇㅇㅈ/ㄱㅎㅈ/ㄱㅁㅈ 🐶🐱🐰'}</td>\n",
       "    </tr>\n",
       "    <tr>\n",
       "      <td>26</td>\n",
       "      <td>619a5df8346ff6a5891c473e</td>\n",
       "      <td>{'location': 'oft unterwegs'}</td>\n",
       "    </tr>\n",
       "    <tr>\n",
       "      <td>27</td>\n",
       "      <td>619a5df8346ff6a5891c473f</td>\n",
       "      <td>{'location': None}</td>\n",
       "    </tr>\n",
       "    <tr>\n",
       "      <td>28</td>\n",
       "      <td>619a5df8346ff6a5891c4740</td>\n",
       "      <td>{'location': '広島 庄原市'}</td>\n",
       "    </tr>\n",
       "    <tr>\n",
       "      <td>29</td>\n",
       "      <td>619a5df8346ff6a5891c4741</td>\n",
       "      <td>{'location': 'ご依頼は下記から＊60分6000円(zoom、LINE通話)'}</td>\n",
       "    </tr>\n",
       "    <tr>\n",
       "      <td>30</td>\n",
       "      <td>619a5df8346ff6a5891c4742</td>\n",
       "      <td>{'location': None}</td>\n",
       "    </tr>\n",
       "    <tr>\n",
       "      <td>31</td>\n",
       "      <td>619a5df8346ff6a5891c4743</td>\n",
       "      <td>{'location': None}</td>\n",
       "    </tr>\n",
       "    <tr>\n",
       "      <td>32</td>\n",
       "      <td>619a5df8346ff6a5891c4744</td>\n",
       "      <td>{'location': None}</td>\n",
       "    </tr>\n",
       "    <tr>\n",
       "      <td>33</td>\n",
       "      <td>619a5df8346ff6a5891c4745</td>\n",
       "      <td>{'location': 'Gouda'}</td>\n",
       "    </tr>\n",
       "    <tr>\n",
       "      <td>34</td>\n",
       "      <td>619a5df8346ff6a5891c4746</td>\n",
       "      <td>{'location': None}</td>\n",
       "    </tr>\n",
       "    <tr>\n",
       "      <td>35</td>\n",
       "      <td>619a5df8346ff6a5891c4747</td>\n",
       "      <td>{'location': 'Aotearoa'}</td>\n",
       "    </tr>\n",
       "    <tr>\n",
       "      <td>36</td>\n",
       "      <td>619a5df8346ff6a5891c4748</td>\n",
       "      <td>{'location': None}</td>\n",
       "    </tr>\n",
       "    <tr>\n",
       "      <td>37</td>\n",
       "      <td>619a5df8346ff6a5891c4749</td>\n",
       "      <td>{'location': None}</td>\n",
       "    </tr>\n",
       "    <tr>\n",
       "      <td>38</td>\n",
       "      <td>619a5df8346ff6a5891c474a</td>\n",
       "      <td>{'location': None}</td>\n",
       "    </tr>\n",
       "    <tr>\n",
       "      <td>39</td>\n",
       "      <td>619a5df8346ff6a5891c474b</td>\n",
       "      <td>{'location': None}</td>\n",
       "    </tr>\n",
       "    <tr>\n",
       "      <td>40</td>\n",
       "      <td>619a5df8346ff6a5891c474c</td>\n",
       "      <td>{'location': 'Jawa Timur, Indonesia'}</td>\n",
       "    </tr>\n",
       "  </tbody>\n",
       "</table>\n",
       "</div>"
      ],
      "text/plain": [
       "                         _id                                            user\n",
       "0   619a5df8346ff6a5891c4724                              {'location': None}\n",
       "1   619a5df8346ff6a5891c4725        {'location': 'Los Noches, Hueco Mundo '}\n",
       "2   619a5df8346ff6a5891c4726                              {'location': None}\n",
       "3   619a5df8346ff6a5891c4727           {'location': 'laspinas, Phillipines'}\n",
       "4   619a5df8346ff6a5891c4728                              {'location': None}\n",
       "5   619a5df8346ff6a5891c4729           {'location': 'Franche-Comté, France'}\n",
       "6   619a5df8346ff6a5891c472a          {'location': 'Dar es Salaam,Tanzania'}\n",
       "7   619a5df8346ff6a5891c472b                        {'location': 'Thailand'}\n",
       "8   619a5df8346ff6a5891c472c                  {'location': 'Nairobi, Kenya'}\n",
       "9   619a5df8346ff6a5891c472d                  {'location': '91/ Strasbourg'}\n",
       "10  619a5df8346ff6a5891c472e                              {'location': None}\n",
       "11  619a5df8346ff6a5891c472f                              {'location': None}\n",
       "12  619a5df8346ff6a5891c4730                         {'location': 'icon：自作'}\n",
       "13  619a5df8346ff6a5891c4731                              {'location': None}\n",
       "14  619a5df8346ff6a5891c4732                              {'location': None}\n",
       "15  619a5df8346ff6a5891c4733                           {'location': 'India'}\n",
       "16  619a5df8346ff6a5891c4734                              {'location': None}\n",
       "17  619a5df8346ff6a5891c4735                              {'location': None}\n",
       "18  619a5df8346ff6a5891c4736                              {'location': None}\n",
       "19  619a5df8346ff6a5891c4737                              {'location': None}\n",
       "20  619a5df8346ff6a5891c4738                           {'location': '日本 東京'}\n",
       "21  619a5df8346ff6a5891c4739                              {'location': None}\n",
       "22  619a5df8346ff6a5891c473a                              {'location': None}\n",
       "23  619a5df8346ff6a5891c473b                              {'location': None}\n",
       "24  619a5df8346ff6a5891c473c                              {'location': None}\n",
       "25  619a5df8346ff6a5891c473d                 {'location': 'ㅇㅇㅈ/ㄱㅎㅈ/ㄱㅁㅈ 🐶🐱🐰'}\n",
       "26  619a5df8346ff6a5891c473e                   {'location': 'oft unterwegs'}\n",
       "27  619a5df8346ff6a5891c473f                              {'location': None}\n",
       "28  619a5df8346ff6a5891c4740                          {'location': '広島 庄原市'}\n",
       "29  619a5df8346ff6a5891c4741  {'location': 'ご依頼は下記から＊60分6000円(zoom、LINE通話)'}\n",
       "30  619a5df8346ff6a5891c4742                              {'location': None}\n",
       "31  619a5df8346ff6a5891c4743                              {'location': None}\n",
       "32  619a5df8346ff6a5891c4744                              {'location': None}\n",
       "33  619a5df8346ff6a5891c4745                           {'location': 'Gouda'}\n",
       "34  619a5df8346ff6a5891c4746                              {'location': None}\n",
       "35  619a5df8346ff6a5891c4747                        {'location': 'Aotearoa'}\n",
       "36  619a5df8346ff6a5891c4748                              {'location': None}\n",
       "37  619a5df8346ff6a5891c4749                              {'location': None}\n",
       "38  619a5df8346ff6a5891c474a                              {'location': None}\n",
       "39  619a5df8346ff6a5891c474b                              {'location': None}\n",
       "40  619a5df8346ff6a5891c474c           {'location': 'Jawa Timur, Indonesia'}"
      ]
     },
     "execution_count": 134,
     "metadata": {},
     "output_type": "execute_result"
    }
   ],
   "source": [
    "user_l"
   ]
  },
  {
   "cell_type": "code",
   "execution_count": null,
   "metadata": {},
   "outputs": [],
   "source": []
  }
 ],
 "metadata": {
  "kernelspec": {
   "display_name": "Python 3",
   "language": "python",
   "name": "python3"
  },
  "language_info": {
   "codemirror_mode": {
    "name": "ipython",
    "version": 3
   },
   "file_extension": ".py",
   "mimetype": "text/x-python",
   "name": "python",
   "nbconvert_exporter": "python",
   "pygments_lexer": "ipython3",
   "version": "3.7.4"
  }
 },
 "nbformat": 4,
 "nbformat_minor": 2
}
